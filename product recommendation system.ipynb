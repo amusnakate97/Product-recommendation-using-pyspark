{
 "cells": [
  {
   "cell_type": "code",
   "execution_count": 10,
   "metadata": {},
   "outputs": [
    {
     "name": "stdout",
     "output_type": "stream",
     "text": [
      "+----+-----------+--------+\n",
      "|prid|compna_name|category|\n",
      "+----+-----------+--------+\n",
      "| 111|     orange|     top|\n",
      "| 112|     orange|     top|\n",
      "| 113|      focus|   jeans|\n",
      "| 114|      focus|   jeans|\n",
      "| 115|      bloom|   jeans|\n",
      "| 116|     infeel|  jacket|\n",
      "| 117|     infeel|     top|\n",
      "| 118|   london81|   jeans|\n",
      "| 119|  vero moda|  jacket|\n",
      "| 120|  vero moda|     top|\n",
      "+----+-----------+--------+\n",
      "\n"
     ]
    }
   ],
   "source": [
    "from pyspark import SparkConf, SparkContext\n",
    "from pyspark.sql import SparkSession\n",
    " \n",
    "spark=SparkSession.builder.master('local').\\\n",
    "            config('spark.jars.packages','mysql:mysql-connector-java:5.1.44').\\\n",
    "            appName('db').getOrCreate()\n",
    "  \n",
    "\n",
    "#read table data into a spark dataframe\n",
    "products = spark.read.format(\"jdbc\") \\\n",
    "    .option(\"url\", \"jdbc:mysql://localhost:3306/amu\") \\\n",
    "    .option(\"dbtable\", 'items') \\\n",
    "    .option(\"user\", 'root') \\\n",
    "    .option(\"password\", 'amruta') \\\n",
    "    .option(\"driver\", \"com.mysql.jdbc.Driver\") \\\n",
    "    .load()\n",
    " \n",
    "#show the data loaded into dataframe\n",
    "products.show()"
   ]
  },
  {
   "cell_type": "code",
   "execution_count": 11,
   "metadata": {},
   "outputs": [
    {
     "name": "stdout",
     "output_type": "stream",
     "text": [
      "+---+----+\n",
      "|uid|prid|\n",
      "+---+----+\n",
      "|101| 111|\n",
      "|101| 113|\n",
      "|101| 114|\n",
      "|101| 119|\n",
      "|102| 117|\n",
      "|102| 120|\n",
      "|102| 116|\n",
      "|102| 118|\n",
      "+---+----+\n",
      "\n"
     ]
    }
   ],
   "source": [
    "history = spark.read.format(\"jdbc\") \\\n",
    "    .option(\"url\", \"jdbc:mysql://localhost:3306/amu\") \\\n",
    "    .option(\"dbtable\", 'purchase_history') \\\n",
    "    .option(\"user\", 'root') \\\n",
    "    .option(\"password\", 'amruta') \\\n",
    "    .option(\"driver\", \"com.mysql.jdbc.Driver\") \\\n",
    "    .load()\n",
    " \n",
    "#show the data loaded into dataframe\n",
    "history.show()"
   ]
  },
  {
   "cell_type": "code",
   "execution_count": 12,
   "metadata": {},
   "outputs": [
    {
     "name": "stdout",
     "output_type": "stream",
     "text": [
      "id101\n",
      "+---+----+\n",
      "|uid|prid|\n",
      "+---+----+\n",
      "|101| 111|\n",
      "|101| 113|\n",
      "|101| 114|\n",
      "|101| 119|\n",
      "+---+----+\n",
      "\n"
     ]
    }
   ],
   "source": [
    "uid=int(input('id'))\n",
    "user_bought_products=history.filter(history['uid']==uid)\n",
    "user_bought_products.show()"
   ]
  },
  {
   "cell_type": "code",
   "execution_count": 14,
   "metadata": {},
   "outputs": [
    {
     "name": "stdout",
     "output_type": "stream",
     "text": [
      "+----+-----------+--------+---+----+\n",
      "|prid|compna_name|category|uid|prid|\n",
      "+----+-----------+--------+---+----+\n",
      "| 111|     orange|     top|101| 111|\n",
      "| 114|      focus|   jeans|101| 114|\n",
      "| 113|      focus|   jeans|101| 113|\n",
      "| 119|  vero moda|  jacket|101| 119|\n",
      "+----+-----------+--------+---+----+\n",
      "\n"
     ]
    }
   ],
   "source": [
    "user_prod_cat =products.join(user_bought_products, products['prid'] == user_bought_products['prid'],how='inner') # Could also use 'left_outer'\n",
    "user_prod_cat.show()"
   ]
  },
  {
   "cell_type": "code",
   "execution_count": 21,
   "metadata": {},
   "outputs": [
    {
     "data": {
      "text/plain": [
       "Row(category='jeans', count=2)"
      ]
     },
     "execution_count": 21,
     "metadata": {},
     "output_type": "execute_result"
    }
   ],
   "source": [
    "max_cat=user_prod_cat.groupBy('category').count().orderBy('count',ascending=False).first()\n",
    "max_cat"
   ]
  },
  {
   "cell_type": "code",
   "execution_count": 23,
   "metadata": {},
   "outputs": [
    {
     "name": "stdout",
     "output_type": "stream",
     "text": [
      "jeans\n"
     ]
    }
   ],
   "source": [
    "print(max_cat['category'])"
   ]
  },
  {
   "cell_type": "code",
   "execution_count": 25,
   "metadata": {},
   "outputs": [
    {
     "name": "stdout",
     "output_type": "stream",
     "text": [
      "+----+-----------+--------+\n",
      "|prid|compna_name|category|\n",
      "+----+-----------+--------+\n",
      "| 113|      focus|   jeans|\n",
      "| 114|      focus|   jeans|\n",
      "| 115|      bloom|   jeans|\n",
      "| 118|   london81|   jeans|\n",
      "+----+-----------+--------+\n",
      "\n"
     ]
    }
   ],
   "source": [
    "all_cat_products=products.filter(products['category']==(max_cat['category']))\n",
    "all_cat_products.show()                             "
   ]
  },
  {
   "cell_type": "code",
   "execution_count": 29,
   "metadata": {},
   "outputs": [
    {
     "name": "stdout",
     "output_type": "stream",
     "text": [
      "+----+-----------+--------+\n",
      "|prid|compna_name|category|\n",
      "+----+-----------+--------+\n",
      "| 115|      bloom|   jeans|\n",
      "| 118|   london81|   jeans|\n",
      "+----+-----------+--------+\n",
      "\n"
     ]
    }
   ],
   "source": [
    "recc =all_cat_products.join(user_bought_products, on=['prid'], how='left_anti')\n",
    "recc.show()"
   ]
  },
  {
   "cell_type": "code",
   "execution_count": null,
   "metadata": {},
   "outputs": [],
   "source": []
  }
 ],
 "metadata": {
  "kernelspec": {
   "display_name": "Python 3",
   "language": "python",
   "name": "python3"
  },
  "language_info": {
   "codemirror_mode": {
    "name": "ipython",
    "version": 3
   },
   "file_extension": ".py",
   "mimetype": "text/x-python",
   "name": "python",
   "nbconvert_exporter": "python",
   "pygments_lexer": "ipython3",
   "version": "3.7.3"
  }
 },
 "nbformat": 4,
 "nbformat_minor": 2
}
